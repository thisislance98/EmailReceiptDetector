{
 "cells": [
  {
   "cell_type": "code",
   "execution_count": 138,
   "metadata": {},
   "outputs": [],
   "source": [
    "%config IPCompleter.greedy=True\n",
    "from __future__ import print_function\n",
    "from googleapiclient.discovery import build\n",
    "from httplib2 import Http\n",
    "from oauth2client import file, client, tools\n",
    "from receipt_detector import is_receipt\n",
    "from datetime import datetime,timedelta\n",
    "from dateutil.parser import parse\n",
    "import pytz\n"
   ]
  },
  {
   "cell_type": "code",
   "execution_count": 139,
   "metadata": {},
   "outputs": [],
   "source": [
    "# If modifying these scopes, delete the file token.json.\n",
    "SCOPES = 'https://www.googleapis.com/auth/gmail.readonly'"
   ]
  },
  {
   "cell_type": "code",
   "execution_count": 140,
   "metadata": {},
   "outputs": [],
   "source": [
    "store = file.Storage('token.json')\n",
    "creds = store.get()\n",
    "if not creds or creds.invalid:\n",
    "    flow = client.flow_from_clientsecrets('credentials.json', SCOPES)\n",
    "    creds = tools.run_flow(flow, store)\n",
    "service = build('gmail', 'v1', http=creds.authorize(Http()))\n"
   ]
  },
  {
   "cell_type": "code",
   "execution_count": 141,
   "metadata": {},
   "outputs": [],
   "source": [
    "user_id =  'me'\n",
    "label_id_one = 'INBOX'\n",
    "label_id_two = 'UNREAD'\n",
    "    \n",
    "def get_messages(date_query):\n",
    "    messages = []\n",
    "    try:\n",
    "        response = service.users().messages().list(userId=user_id,labelIds=[label_id_one],q=date_query).execute()\n",
    "        \n",
    "        if 'messages' in response:\n",
    "          messages.extend(response['messages'])\n",
    "\n",
    "        while 'nextPageToken' in response:\n",
    "          page_token = response['nextPageToken']\n",
    "          response = service.users().messages().list(userId=user_id,labelIds=[label_id_one],q=date_query,\n",
    "                                             pageToken=page_token).execute()\n",
    "          messages.extend(response['messages'])\n",
    "          \n",
    "    except error:\n",
    "        print ('An error occurred: %s' % error)\n",
    "    return messages"
   ]
  },
  {
   "cell_type": "code",
   "execution_count": 142,
   "metadata": {},
   "outputs": [],
   "source": [
    "def check_for_receipt(message):\n",
    "    payld = message['payload'] # get payload of the message \n",
    "    headr = payld['headers'] # get header of the payload\n",
    "\n",
    "    for one in headr: # getting the Subject\n",
    "        if one['name'] == 'Subject':\n",
    "            msg_subject = one['value']\n",
    "            if is_receipt(msg_subject):\n",
    "                return True,msg_subject\n",
    "    return False,None\n",
    "\n",
    "    "
   ]
  },
  {
   "cell_type": "code",
   "execution_count": 146,
   "metadata": {},
   "outputs": [
    {
     "name": "stdout",
     "output_type": "stream",
     "text": [
      "511\n",
      "Monthly Parking Invoice\n",
      "Receipt for Your Payment to GitHub, Inc.\n",
      "[GitHub] Payment Receipt for thisislance98\n",
      "Your Corporate Card Statement is Ready\n",
      "Now online: Your health statement from UnitedHealthcare\n",
      "Receipt: Subscription payment #12641867\n",
      "We've received your payment\n",
      "We've received your payment\n",
      "Payment Reveipt\n",
      "Confirmation of Your Bank Enrollment\n",
      "\"Canada's national anthem is now gender neutral 🇨🇦\" Moment\n",
      "Confirmation from Farmers Insurance: Enrollment in automatic payments\n",
      "Regarding your Electronic Payment Privileges\n",
      "[Revmob] Paypal Payment Processed\n",
      "Revmob payment\n",
      "Ski → Stay\n",
      "Receipt for Your Payment to iTunes and App Store\n",
      "Confirmation of Your Bank Enrollment\n",
      "We've received your payment\n",
      "Payment Confirmation\n",
      "Spelling Bee 2018\n",
      "LAST DAY TO SAVE: Take $25 OFF Every Order Over $250 OR Save $200 on Super Bowl Tickets!\n",
      "Billing agreement cancellation confirmation\n",
      "CES 2018 Highlights\n",
      "Winter Sale: Take $25 OFF Every Order Over $250 OR Save $200 on Super Bowl Tickets!\n",
      "\"Florida man tries to order a burrito at a bank drive-thru \" Moment\n",
      "Your Thursday evening trip with Uber\n",
      "FW: Your Hotel Reservation - SAP FKOM Las Vegas\n",
      "Everything You Need for 2018 Travel\n",
      "Your Amazon.com order of \"How Children Succeed: Grit...\" has shipped!\n",
      "Your Amazon.com order of \"How Children Succeed: Grit...\".\n",
      "\"US Embassy in London issues statement after Trump comments\" Moment\n"
     ]
    }
   ],
   "source": [
    "import time\n",
    "\n",
    "def on_complete(request_id, response, exception):\n",
    "    if exception is not None:\n",
    "        print(exception)\n",
    "    else:\n",
    "        got_receipt, subject = check_for_receipt(response)\n",
    "        if got_receipt:\n",
    "            print(subject)\n",
    "\n",
    "\n",
    "messages = get_messages('after:2018/01/13 before:2018/02/13')\n",
    "print(len(messages))\n",
    "\n",
    "\n",
    "chunk_size = 50\n",
    "\n",
    "start = 0\n",
    "while start <= len(messages):\n",
    "\n",
    "    batch = service.new_batch_http_request()\n",
    "    end = start + chunk_size\n",
    "    \n",
    "    if end >= len(messages):\n",
    "        end = len(messages) - 1\n",
    "\n",
    "    for i in range(start,end):\n",
    "        batch.add(service.users().messages().get(userId=user_id, id=messages[i]['id']), callback=on_complete)\n",
    "\n",
    "    batch.execute()\n",
    "    start += chunk_size\n",
    "    "
   ]
  },
  {
   "cell_type": "code",
   "execution_count": null,
   "metadata": {},
   "outputs": [],
   "source": []
  },
  {
   "cell_type": "code",
   "execution_count": null,
   "metadata": {},
   "outputs": [],
   "source": []
  }
 ],
 "metadata": {
  "kernelspec": {
   "display_name": "Python 3",
   "language": "python",
   "name": "python3"
  },
  "language_info": {
   "codemirror_mode": {
    "name": "ipython",
    "version": 3
   },
   "file_extension": ".py",
   "mimetype": "text/x-python",
   "name": "python",
   "nbconvert_exporter": "python",
   "pygments_lexer": "ipython3",
   "version": "3.6.4"
  }
 },
 "nbformat": 4,
 "nbformat_minor": 2
}
