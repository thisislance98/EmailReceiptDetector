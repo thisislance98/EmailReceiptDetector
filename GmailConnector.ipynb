{
 "cells": [
  {
   "cell_type": "code",
   "execution_count": 95,
   "metadata": {},
   "outputs": [],
   "source": [
    "%config IPCompleter.greedy=True\n",
    "from __future__ import print_function\n",
    "from googleapiclient.discovery import build\n",
    "from httplib2 import Http\n",
    "from oauth2client import file, client, tools\n",
    "from receipt_detector import is_receipt\n",
    "from datetime import datetime,timedelta\n",
    "from dateutil.parser import parse\n",
    "import pytz\n"
   ]
  },
  {
   "cell_type": "code",
   "execution_count": 83,
   "metadata": {},
   "outputs": [],
   "source": [
    "# If modifying these scopes, delete the file token.json.\n",
    "SCOPES = 'https://www.googleapis.com/auth/gmail.readonly'"
   ]
  },
  {
   "cell_type": "code",
   "execution_count": 84,
   "metadata": {},
   "outputs": [],
   "source": [
    "store = file.Storage('token.json')\n",
    "creds = store.get()\n",
    "if not creds or creds.invalid:\n",
    "    flow = client.flow_from_clientsecrets('credentials.json', SCOPES)\n",
    "    creds = tools.run_flow(flow, store)\n",
    "service = build('gmail', 'v1', http=creds.authorize(Http()))\n"
   ]
  },
  {
   "cell_type": "code",
   "execution_count": 85,
   "metadata": {},
   "outputs": [
    {
     "name": "stdout",
     "output_type": "stream",
     "text": [
      "Total unread messages in inbox:  100\n"
     ]
    }
   ],
   "source": [
    "user_id =  'me'\n",
    "label_id_one = 'INBOX'\n",
    "label_id_two = 'UNREAD'\n",
    "\n",
    "# Getting all the unread messages from Inbox\n",
    "# labelIds can be changed accordingly\n",
    "unread_msgs = service.users().messages().list(userId='me',labelIds=[label_id_one]).execute()\n",
    "\n",
    "# We get a dictonary. Now reading values for the key 'messages'\n",
    "mssg_list = unread_msgs['messages']\n",
    "\n",
    "print (\"Total unread messages in inbox: \", str(len(mssg_list)))\n",
    "\n",
    "final_list = [ ]"
   ]
  },
  {
   "cell_type": "code",
   "execution_count": 86,
   "metadata": {},
   "outputs": [],
   "source": [
    "MAX_MESSAGES = 100"
   ]
  },
  {
   "cell_type": "code",
   "execution_count": 87,
   "metadata": {},
   "outputs": [
    {
     "name": "stdout",
     "output_type": "stream",
     "text": [
      "200\n"
     ]
    }
   ],
   "source": [
    "\n",
    "    \n",
    "try:\n",
    "    response = service.users().messages().list(userId=user_id,labelIds=[label_id_one]).execute()\n",
    "    messages = []\n",
    "    if 'messages' in response:\n",
    "      messages.extend(response['messages'])\n",
    "\n",
    "    while 'nextPageToken' in response and len(messages) <= MAX_MESSAGES:\n",
    "      page_token = response['nextPageToken']\n",
    "      response = service.users().messages().list(userId=user_id,labelIds=[label_id_one],\n",
    "                                         pageToken=page_token).execute()\n",
    "      messages.extend(response['messages'])\n",
    "      print(len(messages))\n",
    "\n",
    "except error:\n",
    "    print ('An error occurred: %s' % error)"
   ]
  },
  {
   "cell_type": "code",
   "execution_count": 107,
   "metadata": {},
   "outputs": [
    {
     "name": "stdout",
     "output_type": "stream",
     "text": [
      "2018-09-26 12:40:27.765757+00:00 / 2018-09-28 11:52:48-07:00\n",
      "2018-09-26 12:40:27.765757+00:00 / 2018-09-28 18:31:49+00:00\n",
      "2018-09-26 12:40:27.765757+00:00 / 2018-09-28 17:27:17+00:00\n",
      "2018-09-26 12:40:27.765757+00:00 / 2018-09-28 17:14:21+00:00\n",
      "2018-09-26 12:40:27.765757+00:00 / 2018-09-28 09:29:43-07:00\n",
      "China 8-Night Trip: $398 with Seattle Flights\n",
      "2018-09-26 12:40:27.765757+00:00 / 2018-09-28 14:55:03+00:00\n",
      "2018-09-26 12:40:27.765757+00:00 / 2018-09-28 14:51:52+00:00\n",
      "2018-09-26 12:40:27.765757+00:00 / 2018-09-28 14:35:37+00:00\n",
      "2018-09-26 12:40:27.765757+00:00 / 2018-09-28 11:44:04+00:00\n",
      "LAST DAY! Use this code to get 10% off your next booking\n",
      "2018-09-26 12:40:27.765757+00:00 / 2018-09-28 05:46:56-06:00\n",
      "2018-09-26 12:40:27.765757+00:00 / 2018-09-28 00:01:14-05:00\n",
      "2018-09-26 12:40:27.765757+00:00 / 2018-09-28 03:23:35+00:00\n",
      "2018-09-26 12:40:27.765757+00:00 / 2018-09-28 03:19:02+00:00\n",
      "2018-09-26 12:40:27.765757+00:00 / 2018-09-28 03:09:34+00:00\n",
      "2018-09-26 12:40:27.765757+00:00 / 2018-09-27 19:48:17-04:00\n",
      "2018-09-26 12:40:27.765757+00:00 / 2018-09-27 23:24:34+00:00\n",
      "2018-09-26 12:40:27.765757+00:00 / 2018-09-27 23:06:33+00:00\n",
      "2018-09-26 12:40:27.765757+00:00 / 2018-09-27 22:20:50+00:00\n",
      "2018-09-26 12:40:27.765757+00:00 / 2018-09-27 22:07:45+00:00\n",
      "2018-09-26 12:40:27.765757+00:00 / 2018-09-27 20:03:59+00:00\n",
      "2018-09-26 12:40:27.765757+00:00 / 2018-09-27 19:59:13+00:00\n",
      "2018-09-26 12:40:27.765757+00:00 / 2018-09-27 15:49:14-04:00\n",
      "2018-09-26 12:40:27.765757+00:00 / 2018-09-27 19:41:38+00:00\n",
      "2018-09-26 12:40:27.765757+00:00 / 2018-09-27 12:24:34-07:00\n",
      "2018-09-26 12:40:27.765757+00:00 / 2018-09-27 12:32:26-07:00\n",
      "2018-09-26 12:40:27.765757+00:00 / 2018-09-27 17:12:57+00:00\n",
      "2018-09-26 12:40:27.765757+00:00 / 2018-09-27 11:44:18-06:00\n",
      "2018-09-26 12:40:27.765757+00:00 / 2018-09-27 10:42:06-07:00\n",
      "2018-09-26 12:40:27.765757+00:00 / 2018-09-27 08:34:55-07:00\n",
      "2018-09-26 12:40:27.765757+00:00 / 2018-09-27 10:32:22-05:00\n",
      "2018-09-26 12:40:27.765757+00:00 / 2018-09-27 08:32:48-07:00\n",
      "2018-09-26 12:40:27.765757+00:00 / 2018-09-27 07:52:59-07:00\n",
      "2018-09-26 12:40:27.765757+00:00 / 2018-09-27 09:00:40-05:00\n",
      "2018-09-26 12:40:27.765757+00:00 / 2018-09-27 12:50:42+00:00\n",
      "2018-09-26 12:40:27.765757+00:00 / 2018-09-27 11:46:47+00:00\n",
      "2018-09-26 12:40:27.765757+00:00 / 2018-09-27 06:22:45-04:00\n",
      "2018-09-26 12:40:27.765757+00:00 / 2018-09-27 08:49:41+00:00\n",
      "2018-09-26 12:40:27.765757+00:00 / 2018-09-27 04:34:54+00:00\n",
      "2018-09-26 12:40:27.765757+00:00 / 2018-09-27 03:04:05+00:00\n",
      "2018-09-26 12:40:27.765757+00:00 / 2018-09-27 02:37:02+00:00\n",
      "2018-09-26 12:40:27.765757+00:00 / 2018-09-27 02:32:38+00:00\n",
      "2018-09-26 12:40:27.765757+00:00 / 2018-09-27 02:31:47+00:00\n",
      "2018-09-26 12:40:27.765757+00:00 / 2018-09-27 02:31:14+00:00\n",
      "2018-09-26 12:40:27.765757+00:00 / 2018-09-26 19:21:50-07:00\n",
      "2018-09-26 12:40:27.765757+00:00 / 2018-09-27 02:09:26+00:00\n",
      "2018-09-26 12:40:27.765757+00:00 / 2018-09-27 02:04:09+00:00\n",
      "2018-09-26 12:40:27.765757+00:00 / 2018-09-26 23:24:31+00:00\n",
      "2018-09-26 12:40:27.765757+00:00 / 2018-09-26 22:11:29+00:00\n",
      "2018-09-26 12:40:27.765757+00:00 / 2018-09-26 15:13:07-06:00\n",
      "2018-09-26 12:40:27.765757+00:00 / 2018-09-26 14:10:56-07:00\n",
      "2018-09-26 12:40:27.765757+00:00 / 2018-09-26 20:42:56+00:00\n",
      "2018-09-26 12:40:27.765757+00:00 / 2018-09-26 19:35:44+00:00\n",
      "2018-09-26 12:40:27.765757+00:00 / 2018-09-26 18:03:08+00:00\n",
      "2018-09-26 12:40:27.765757+00:00 / 2018-09-26 10:35:29-07:00\n",
      "2018-09-26 12:40:27.765757+00:00 / 2018-09-26 10:35:44-06:00\n",
      "2018-09-26 12:40:27.765757+00:00 / 2018-09-26 12:01:32-04:00\n",
      "2018-09-26 12:40:27.765757+00:00 / 2018-09-26 15:54:21+00:00\n",
      "2018-09-26 12:40:27.765757+00:00 / 2018-09-26 10:37:48-05:00\n",
      "2018-09-26 12:40:27.765757+00:00 / 2018-09-26 15:36:07+00:00\n",
      "2018-09-26 12:40:27.765757+00:00 / 2018-09-26 07:37:56-07:00\n",
      "2018-09-26 12:40:27.765757+00:00 / 2018-09-26 13:40:19+00:00\n",
      "2018-09-26 12:40:27.765757+00:00 / 2018-09-26 13:34:20+00:00\n",
      "2018-09-26 12:40:27.765757+00:00 / 2018-09-26 06:08:18-07:00\n",
      "Receipt for Your Payment to iTunes and App Store\n",
      "2018-09-26 12:40:27.765757+00:00 / 2018-09-26 09:05:35-04:00\n",
      "2018-09-26 12:40:27.765757+00:00 / 2018-09-26 13:02:29+00:00\n",
      "2018-09-26 12:40:27.765757+00:00 / 2018-09-26 06:57:18-06:00\n",
      "2018-09-26 12:40:27.765757+00:00 / 2018-09-25 20:55:12-07:00\n"
     ]
    }
   ],
   "source": [
    "utc=pytz.UTC\n",
    "\n",
    "\n",
    "def grab_all_receipts(days):\n",
    "    \n",
    "    date_N_days_ago = datetime.now().replace(tzinfo=utc) - timedelta(days=days)\n",
    "    \n",
    "    for mssg in messages:\n",
    "        temp_dict = { }\n",
    "        m_id = mssg['id'] # get id of individual message\n",
    "        message = service.users().messages().get(userId=user_id, id=m_id).execute() # fetch the message using API\n",
    "        payld = message['payload'] # get payload of the message \n",
    "        headr = payld['headers'] # get header of the payload\n",
    "\n",
    "        for one in headr: # getting the Subject\n",
    "            if one['name'] == 'Subject':\n",
    "                msg_subject = one['value']\n",
    "                if is_receipt(msg_subject):\n",
    "                    print(msg_subject)\n",
    "            if one['name'] == 'Date':\n",
    "                date_string = one['value']\n",
    "                d = parse(date_string)\n",
    "                if (d < date_N_days_ago):\n",
    "                    return\n",
    "            \n",
    "grab_all_receipts(2)"
   ]
  }
 ],
 "metadata": {
  "kernelspec": {
   "display_name": "Python 3",
   "language": "python",
   "name": "python3"
  },
  "language_info": {
   "codemirror_mode": {
    "name": "ipython",
    "version": 3
   },
   "file_extension": ".py",
   "mimetype": "text/x-python",
   "name": "python",
   "nbconvert_exporter": "python",
   "pygments_lexer": "ipython3",
   "version": "3.6.4"
  }
 },
 "nbformat": 4,
 "nbformat_minor": 2
}
