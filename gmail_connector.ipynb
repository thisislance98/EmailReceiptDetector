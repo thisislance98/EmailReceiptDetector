{
 "cells": [
  {
   "cell_type": "code",
   "execution_count": 19,
   "metadata": {},
   "outputs": [],
   "source": [
    "from __future__ import print_function\n",
    "%config IPCompleter.greedy=True\n",
    "from googleapiclient.discovery import build\n",
    "import googleapiclient.discovery\n",
    "import google.oauth2.credentials\n",
    "from httplib2 import Http\n",
    "from oauth2client import file, client, tools\n",
    "from receipt_detector import is_receipt\n",
    "from receipt_detector import get_top_features_names\n",
    "from datetime import datetime,timedelta\n",
    "from dateutil.parser import parse\n",
    "import pytz"
   ]
  },
  {
   "cell_type": "code",
   "execution_count": 2,
   "metadata": {},
   "outputs": [],
   "source": [
    "# If modifying these scopes, delete the file token.json.\n",
    "SCOPES = 'https://www.googleapis.com/auth/gmail.readonly'"
   ]
  },
  {
   "cell_type": "code",
   "execution_count": 3,
   "metadata": {},
   "outputs": [],
   "source": [
    "# store = file.Storage('token.json')\n",
    "# creds = store.get()\n",
    "# if not creds or creds.invalid:\n",
    "#     flow = client.flow_from_clientsecrets('credentials.json', SCOPES)\n",
    "#     creds = tools.run_flow(flow, store)\n",
    "# service = build('gmail', 'v1', http=creds.authorize(Http()))"
   ]
  },
  {
   "cell_type": "code",
   "execution_count": 17,
   "metadata": {},
   "outputs": [],
   "source": [
    "user_id =  'me'\n",
    "label_id_one = 'INBOX'\n",
    "label_id_two = 'UNREAD'\n",
    "    \n",
    "def get_messages(service, query,quick_search):\n",
    "    \n",
    "    messages = []\n",
    "    try:\n",
    "        if quick_search:\n",
    "            top = get_top_features_names(60)\n",
    "            for i in range(len(top)):\n",
    "                word = top[i]\n",
    "                query = query + ' subject:' + word\n",
    "                if i < len(top)-1:\n",
    "                    query = query + ' OR '\n",
    "        \n",
    "        response = service.users().messages().list(userId=user_id,labelIds=[label_id_one],q=query).execute()\n",
    "        \n",
    "        if 'messages' in response:\n",
    "          messages.extend(response['messages'])\n",
    "\n",
    "        while 'nextPageToken' in response:\n",
    "          page_token = response['nextPageToken']\n",
    "          response = service.users().messages().list(userId=user_id,labelIds=[label_id_one],q=query,\n",
    "                                             pageToken=page_token).execute()\n",
    "          messages.extend(response['messages'])\n",
    "          \n",
    "    except Exception as error:\n",
    "        print ('An error occurred: %s' % error)\n",
    "    return messages"
   ]
  },
  {
   "cell_type": "code",
   "execution_count": 5,
   "metadata": {},
   "outputs": [],
   "source": [
    "def check_for_receipt(message):\n",
    "    payld = message['payload'] # get payload of the message \n",
    "    headr = payld['headers'] # get header of the payload\n",
    "\n",
    "    \n",
    "    for one in headr: # getting the Subject\n",
    "        if one['name'] == 'Subject':\n",
    "            msg_subject = one['value']\n",
    "            if is_receipt(msg_subject.lower()):\n",
    "                return True,msg_subject,payld\n",
    "    return False,None,None"
   ]
  },
  {
   "cell_type": "code",
   "execution_count": 6,
   "metadata": {},
   "outputs": [],
   "source": [
    "# import base64 \n",
    "# import email\n",
    "\n",
    "# def get_message_body(message):\n",
    "# #     try:\n",
    "# #     message = service.users().messages().get(userId=user_id, id=msg_id, format='raw').execute()\n",
    "#     bodies = []\n",
    "    \n",
    "#     if message['payload']['body']['size'] > 0:\n",
    "#         return message['payload']['body']\n",
    "#     elif 'parts' in message['payload'] and len(message['payload']['parts']) > 0:\n",
    "#         for part in message['payload']['parts']:\n",
    "#             bodies.append(part['body']['data'])\n",
    "            \n",
    "#     for body in bodies:\n",
    "#         msg_str = base64.urlsafe_b64decode(body.encode('ASCII')).decode()\n",
    "\n",
    "\n",
    "\n",
    "# m = service.users().messages().list(userId=user_id,labelIds=[label_id_one]).execute()\n",
    "# msg = service.users().messages().get(userId=user_id, id=m['messages'][10]['id']).execute()\n",
    "# # print(msg)\n",
    "# print (get_message_body(msg)) \n",
    "# # check_for_receipt(msg)"
   ]
  },
  {
   "cell_type": "code",
   "execution_count": 20,
   "metadata": {},
   "outputs": [
    {
     "name": "stdout",
     "output_type": "stream",
     "text": [
      "66\n",
      "done\n",
      "37\n"
     ]
    }
   ],
   "source": [
    "import time\n",
    "\n",
    "\n",
    "def get_receipts(credentials, date_range, quick_search=True):\n",
    "    \n",
    "    \n",
    "    creds = google.oauth2.credentials.Credentials(**credentials)\n",
    "    service = googleapiclient.discovery.build('gmail', 'v1', credentials=creds)\n",
    "    \n",
    "    receipts = []\n",
    "    def on_complete(request_id, response, exception):\n",
    "        if exception is not None:\n",
    "            print(\"error\")\n",
    "            print(exception)\n",
    "        else:\n",
    "            got_receipt, subject,payload = check_for_receipt(response)\n",
    "            \n",
    "            if got_receipt:\n",
    "                receipt = {\n",
    "                    'subject' : subject,\n",
    "                    'payload' : payload\n",
    "                }\n",
    "                receipts.append(receipt)\n",
    "            \n",
    "    messages = get_messages(service,date_range,quick_search)\n",
    "    print(len(messages))\n",
    "    chunk_size = 250\n",
    "    start = 0\n",
    "    while start <= len(messages):\n",
    "\n",
    "        start_time = time.time()\n",
    "        batch = service.new_batch_http_request()\n",
    "        end = start + chunk_size\n",
    "\n",
    "        if end >= len(messages):\n",
    "            end = len(messages) - 1\n",
    "\n",
    "        for i in range(start,end):\n",
    "            batch.add(service.users().messages().get(userId=user_id, id=messages[i]['id']), callback=on_complete)\n",
    "\n",
    "        batch.execute()\n",
    "        end_time = time.time()\n",
    "        # google only allows 250 calls per second although 500 seems to work\n",
    "        wait = max(1 - (end_time - start_time),0)\n",
    "\n",
    "        time.sleep(wait)\n",
    "        start += chunk_size\n",
    "    print('done')\n",
    "    return receipts\n",
    "        \n",
    "creds = {u'scopes': ['https://www.googleapis.com/auth/gmail.readonly'], u'token_uri': u'https://www.googleapis.com/oauth2/v3/token', u'token': u'ya29.GlsrBvAlmmc0OSbNuOeaQmrxLaEWe3t-W7uvaaDsM8oR4G3E2dOp-h70QX84X8mn96rKsJNwnpZQIbl78qGPKEQSBBumPHWlT5ifeUxpecuqJ0iXoYh7RuROBMMA', u'client_id': u'969545108751-3cc55edgshu2bstroubelbu789vd9f68.apps.googleusercontent.com', u'client_secret': u'INqCxZbx_qa7o44Ja1TBRpRp', u'refresh_token': u'1/ngq8AA0Jssnc4O_FG6Oc9CIDULF3SdkwrJ-U2UolS28'}   \n",
    "a = [x['subject'] for x in get_receipts(creds,'after:2018/09/03 before:2018/10/3')]\n",
    "print(len(a))"
   ]
  },
  {
   "cell_type": "code",
   "execution_count": null,
   "metadata": {},
   "outputs": [],
   "source": []
  },
  {
   "cell_type": "code",
   "execution_count": null,
   "metadata": {},
   "outputs": [],
   "source": []
  },
  {
   "cell_type": "code",
   "execution_count": null,
   "metadata": {},
   "outputs": [],
   "source": []
  }
 ],
 "metadata": {
  "kernelspec": {
   "display_name": "Python 3",
   "language": "python",
   "name": "python3"
  },
  "language_info": {
   "codemirror_mode": {
    "name": "ipython",
    "version": 3
   },
   "file_extension": ".py",
   "mimetype": "text/x-python",
   "name": "python",
   "nbconvert_exporter": "python",
   "pygments_lexer": "ipython3",
   "version": "3.6.4"
  }
 },
 "nbformat": 4,
 "nbformat_minor": 2
}
